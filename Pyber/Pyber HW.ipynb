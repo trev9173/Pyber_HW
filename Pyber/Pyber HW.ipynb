{
 "cells": [
  {
   "cell_type": "code",
   "execution_count": 68,
   "metadata": {
    "collapsed": true
   },
   "outputs": [],
   "source": [
    "import numpy as np\n",
    "import matplotlib.pyplot as plt\n",
    "import os \n",
    "import csv\n",
    "import pandas as pd"
   ]
  },
  {
   "cell_type": "code",
   "execution_count": 69,
   "metadata": {},
   "outputs": [
    {
     "data": {
      "text/html": [
       "<div>\n",
       "<style>\n",
       "    .dataframe thead tr:only-child th {\n",
       "        text-align: right;\n",
       "    }\n",
       "\n",
       "    .dataframe thead th {\n",
       "        text-align: left;\n",
       "    }\n",
       "\n",
       "    .dataframe tbody tr th {\n",
       "        vertical-align: top;\n",
       "    }\n",
       "</style>\n",
       "<table border=\"1\" class=\"dataframe\">\n",
       "  <thead>\n",
       "    <tr style=\"text-align: right;\">\n",
       "      <th></th>\n",
       "      <th>city</th>\n",
       "      <th>date</th>\n",
       "      <th>fare</th>\n",
       "      <th>ride_id</th>\n",
       "    </tr>\n",
       "  </thead>\n",
       "  <tbody>\n",
       "    <tr>\n",
       "      <th>0</th>\n",
       "      <td>Sarabury</td>\n",
       "      <td>2016-01-16 13:49:27</td>\n",
       "      <td>38.35</td>\n",
       "      <td>5403689035038</td>\n",
       "    </tr>\n",
       "    <tr>\n",
       "      <th>1</th>\n",
       "      <td>South Roy</td>\n",
       "      <td>2016-01-02 18:42:34</td>\n",
       "      <td>17.49</td>\n",
       "      <td>4036272335942</td>\n",
       "    </tr>\n",
       "    <tr>\n",
       "      <th>2</th>\n",
       "      <td>Wiseborough</td>\n",
       "      <td>2016-01-21 17:35:29</td>\n",
       "      <td>44.18</td>\n",
       "      <td>3645042422587</td>\n",
       "    </tr>\n",
       "    <tr>\n",
       "      <th>3</th>\n",
       "      <td>Spencertown</td>\n",
       "      <td>2016-07-31 14:53:22</td>\n",
       "      <td>6.87</td>\n",
       "      <td>2242596575892</td>\n",
       "    </tr>\n",
       "    <tr>\n",
       "      <th>4</th>\n",
       "      <td>Nguyenbury</td>\n",
       "      <td>2016-07-09 04:42:44</td>\n",
       "      <td>6.28</td>\n",
       "      <td>1543057793673</td>\n",
       "    </tr>\n",
       "  </tbody>\n",
       "</table>\n",
       "</div>"
      ],
      "text/plain": [
       "          city                 date   fare        ride_id\n",
       "0     Sarabury  2016-01-16 13:49:27  38.35  5403689035038\n",
       "1    South Roy  2016-01-02 18:42:34  17.49  4036272335942\n",
       "2  Wiseborough  2016-01-21 17:35:29  44.18  3645042422587\n",
       "3  Spencertown  2016-07-31 14:53:22   6.87  2242596575892\n",
       "4   Nguyenbury  2016-07-09 04:42:44   6.28  1543057793673"
      ]
     },
     "execution_count": 69,
     "metadata": {},
     "output_type": "execute_result"
    }
   ],
   "source": [
    "csv_path_ride = os.path.join('./Resources/ride_data.csv') \n",
    "csv_path_city = os.path.join('./Resources/city_data.csv') \n",
    "ride_df = pd.read_csv(csv_path_ride)\n",
    "city_df = pd.read_csv(csv_path_city)\n",
    "ride_df.head()"
   ]
  },
  {
   "cell_type": "code",
   "execution_count": 70,
   "metadata": {
    "collapsed": true
   },
   "outputs": [],
   "source": [
    "pyber_df = pd.merge(ride_df, city_df, how='left', on='city')"
   ]
  },
  {
   "cell_type": "code",
   "execution_count": 84,
   "metadata": {},
   "outputs": [
    {
     "data": {
      "text/html": [
       "<div>\n",
       "<style>\n",
       "    .dataframe thead tr:only-child th {\n",
       "        text-align: right;\n",
       "    }\n",
       "\n",
       "    .dataframe thead th {\n",
       "        text-align: left;\n",
       "    }\n",
       "\n",
       "    .dataframe tbody tr th {\n",
       "        vertical-align: top;\n",
       "    }\n",
       "</style>\n",
       "<table border=\"1\" class=\"dataframe\">\n",
       "  <thead>\n",
       "    <tr style=\"text-align: right;\">\n",
       "      <th></th>\n",
       "      <th>city</th>\n",
       "      <th>date</th>\n",
       "      <th>fare</th>\n",
       "      <th>ride_id</th>\n",
       "      <th>driver_count</th>\n",
       "      <th>type</th>\n",
       "    </tr>\n",
       "  </thead>\n",
       "  <tbody>\n",
       "    <tr>\n",
       "      <th>155</th>\n",
       "      <td>Alvarezhaven</td>\n",
       "      <td>2016-09-01 22:57:12</td>\n",
       "      <td>18.09</td>\n",
       "      <td>1197329964911</td>\n",
       "      <td>21</td>\n",
       "      <td>Urban</td>\n",
       "    </tr>\n",
       "    <tr>\n",
       "      <th>1431</th>\n",
       "      <td>Alvarezhaven</td>\n",
       "      <td>2016-06-16 18:29:05</td>\n",
       "      <td>32.46</td>\n",
       "      <td>858631473935</td>\n",
       "      <td>21</td>\n",
       "      <td>Urban</td>\n",
       "    </tr>\n",
       "    <tr>\n",
       "      <th>1439</th>\n",
       "      <td>Alvarezhaven</td>\n",
       "      <td>2016-03-16 02:01:15</td>\n",
       "      <td>33.62</td>\n",
       "      <td>8974645194719</td>\n",
       "      <td>21</td>\n",
       "      <td>Urban</td>\n",
       "    </tr>\n",
       "    <tr>\n",
       "      <th>1087</th>\n",
       "      <td>Alvarezhaven</td>\n",
       "      <td>2016-05-01 14:35:12</td>\n",
       "      <td>22.54</td>\n",
       "      <td>6435260355302</td>\n",
       "      <td>21</td>\n",
       "      <td>Urban</td>\n",
       "    </tr>\n",
       "    <tr>\n",
       "      <th>1580</th>\n",
       "      <td>Alvarezhaven</td>\n",
       "      <td>2016-05-16 15:33:14</td>\n",
       "      <td>6.45</td>\n",
       "      <td>8939751998750</td>\n",
       "      <td>21</td>\n",
       "      <td>Urban</td>\n",
       "    </tr>\n",
       "  </tbody>\n",
       "</table>\n",
       "</div>"
      ],
      "text/plain": [
       "              city                 date   fare        ride_id  driver_count  \\\n",
       "155   Alvarezhaven  2016-09-01 22:57:12  18.09  1197329964911            21   \n",
       "1431  Alvarezhaven  2016-06-16 18:29:05  32.46   858631473935            21   \n",
       "1439  Alvarezhaven  2016-03-16 02:01:15  33.62  8974645194719            21   \n",
       "1087  Alvarezhaven  2016-05-01 14:35:12  22.54  6435260355302            21   \n",
       "1580  Alvarezhaven  2016-05-16 15:33:14   6.45  8939751998750            21   \n",
       "\n",
       "       type  \n",
       "155   Urban  \n",
       "1431  Urban  \n",
       "1439  Urban  \n",
       "1087  Urban  \n",
       "1580  Urban  "
      ]
     },
     "execution_count": 84,
     "metadata": {},
     "output_type": "execute_result"
    }
   ],
   "source": [
    "pyber_df = pyber_df.sort_values('city')\n",
    "pyber_df.reset_index()\n",
    "pyber_df.head()"
   ]
  },
  {
   "cell_type": "code",
   "execution_count": 47,
   "metadata": {
    "collapsed": true
   },
   "outputs": [],
   "source": [
    "# Find the average fare per city\n",
    "fare_df = pyber_df.groupby(by='city')\n",
    "fare_df = fare_df.mean()\n",
    "# Create a list\n",
    "avg_fare = fare_df['fare'].tolist()"
   ]
  },
  {
   "cell_type": "code",
   "execution_count": 105,
   "metadata": {},
   "outputs": [
    {
     "name": "stdout",
     "output_type": "stream",
     "text": [
      "40078.34\n",
      "64501\n",
      "1625\n"
     ]
    }
   ],
   "source": [
    "# Create a dataframe for only urban\n",
    "urban_df = pyber_df.loc[pyber_df['type'] == 'Urban']\n",
    "\n",
    "# Find the total amount of fares\n",
    "urban_fare = urban_df['fare'].sum()\n",
    "print(urban_fare)\n",
    "\n",
    "# Find the driver count\n",
    "urban_driver_df = urban_df.groupby(by='city')\n",
    "urban_driver_count = urban_driver_df['driver_count'].sum()\n",
    "urban_driver_count = urban_driver_count.sum()\n",
    "print(urban_driver_count)\n",
    "\n",
    "# Find the total number of rides\n",
    "urban_ride = urban_df['ride_id'].count()\n",
    "print(urban_ride)"
   ]
  },
  {
   "cell_type": "code",
   "execution_count": 104,
   "metadata": {},
   "outputs": [
    {
     "name": "stdout",
     "output_type": "stream",
     "text": [
      "4255.09\n",
      "727\n",
      "125\n"
     ]
    }
   ],
   "source": [
    "# Create a dataframe for only rural\n",
    "rural_df = pyber_df.loc[pyber_df['type'] == 'Rural']\n",
    "\n",
    "# Find the total amount of fares\n",
    "rural_fare = rural_df['fare'].sum()\n",
    "print(rural_fare)\n",
    "\n",
    "# Find the driver count\n",
    "rural_driver_df = rural_df.groupby(by='city')\n",
    "rural_driver_count = rural_driver_df['driver_count'].sum()\n",
    "rural_driver_count = rural_driver_count.sum()\n",
    "print(rural_driver_count)\n",
    "\n",
    "# Find the total number of rides\n",
    "rural_ride = rural_df['ride_id'].count()\n",
    "print(rural_ride)"
   ]
  },
  {
   "cell_type": "code",
   "execution_count": 103,
   "metadata": {},
   "outputs": [
    {
     "name": "stdout",
     "output_type": "stream",
     "text": [
      "20335.690000000013\n",
      "9730\n",
      "657\n"
     ]
    }
   ],
   "source": [
    "# Create a dataframe for only suburban\n",
    "suburban_df = pyber_df.loc[pyber_df['type'] == 'Suburban']\n",
    "\n",
    "# Find the total amount of fares\n",
    "suburban_fare = suburban_df['fare'].sum()\n",
    "print(suburban_fare)\n",
    "\n",
    "# Find the driver count\n",
    "suburban_driver_df = suburban_df.groupby(by='city')\n",
    "suburban_driver_count = suburban_driver_df['driver_count'].sum()\n",
    "suburban_driver_count = suburban_driver_count.sum()\n",
    "print(suburban_driver_count)\n",
    "\n",
    "# Find the total number of rides\n",
    "suburban_ride = suburban_df['ride_id'].count()\n",
    "print(suburban_ride)"
   ]
  },
  {
   "cell_type": "code",
   "execution_count": 107,
   "metadata": {},
   "outputs": [
    {
     "name": "stdout",
     "output_type": "stream",
     "text": [
      "64669.12000000001\n",
      "74958\n",
      "2407\n"
     ]
    }
   ],
   "source": [
    "# Find value of total fares\n",
    "total_fare = suburban_fare + rural_fare + urban_fare\n",
    "print(total_fare)\n",
    "\n",
    "# Find value of total drivers\n",
    "total_driver = suburban_driver_count + rural_driver_count + urban_driver_count\n",
    "print(total_driver)\n",
    "\n",
    "# Find value of total riders\n",
    "total_ride = suburban_ride + rural_ride + urban_ride\n",
    "print(total_ride)"
   ]
  },
  {
   "cell_type": "code",
   "execution_count": 187,
   "metadata": {},
   "outputs": [
    {
     "data": {
      "image/png": "[encoded data removed]",
      "text/plain": [
       "<matplotlib.figure.Figure at 0x1d9b28be198>"
      ]
     },
     "metadata": {},
     "output_type": "display_data"
    }
   ],
   "source": [
    "# Make the pie chart for driver counts\n",
    "# Labels for the sections of our pie chart\n",
    "labels = ['Urban','Rural','Suburban']\n",
    "\n",
    "# The values of each section of the pie chart\n",
    "values = [urban_driver_count, rural_driver_count, suburban_driver_count]\n",
    "\n",
    "# The colors of each section of the pie chart\n",
    "colors = [\"lightcoral\", \"Gold\", \"lightskyblue\"]\n",
    "\n",
    "# Seperate the the small values\n",
    "explode = [.1 , .1, .1]\n",
    "\n",
    "# Plot the pie chart\n",
    "plt.pie(values, explode=explode, labels=labels, colors=colors, autopct=\"%1.1f%%\"\n",
    "       , shadow=True, startangle=180)\n",
    "\n",
    "plt.title(\"% of Total Drivers by City Type\")\n",
    "plt.axis('image')\n",
    "\n",
    "plt.show()"
   ]
  },
  {
   "cell_type": "code",
   "execution_count": 189,
   "metadata": {},
   "outputs": [
    {
     "data": {
      "image/png": "[encoded data removed]",
      "text/plain": [
       "<matplotlib.figure.Figure at 0x1d9b25f19e8>"
      ]
     },
     "metadata": {},
     "output_type": "display_data"
    }
   ],
   "source": [
    "# Make the pie chart for fares\n",
    "# Labels for the sections of our pie chart\n",
    "labels = ['Urban','Rural','Suburban']\n",
    "\n",
    "# The values of each section of the pie chart\n",
    "values = [urban_fare, rural_fare, suburban_fare]\n",
    "\n",
    "# The colors of each section of the pie chart\n",
    "colors = [\"lightcoral\", \"Gold\", \"lightskyblue\"]\n",
    "\n",
    "# Seperate the the small values\n",
    "explode = [.1 , .1, .1]\n",
    "\n",
    "# Plot the pie chart\n",
    "plt.pie(values, explode=explode, labels=labels, colors=colors, autopct=\"%1.1f%%\"\n",
    "       , shadow=True, startangle=180)\n",
    "\n",
    "plt.title(\"% of Total Fares by City Type\")\n",
    "plt.axis('image')\n",
    "\n",
    "plt.show()"
   ]
  },
  {
   "cell_type": "code",
   "execution_count": 188,
   "metadata": {},
   "outputs": [
    {
     "data": {
      "image/png": "[encoded data removed]",
      "text/plain": [
       "<matplotlib.figure.Figure at 0x1d9b27eb400>"
      ]
     },
     "metadata": {},
     "output_type": "display_data"
    }
   ],
   "source": [
    "# Make the pie chart for rides\n",
    "# Labels for the sections of our pie chart\n",
    "labels = ['Urban','Rural','Suburban']\n",
    "\n",
    "# The values of each section of the pie chart\n",
    "values = [urban_ride, rural_ride, suburban_ride]\n",
    "\n",
    "# The colors of each section of the pie chart\n",
    "colors = [\"lightcoral\", \"Gold\", \"lightskyblue\"]\n",
    "\n",
    "# Seperate the the small values\n",
    "explode = [.1 , .1, .1]\n",
    "\n",
    "# Plot the pie chart\n",
    "plt.pie(values, explode=explode, labels=labels, colors=colors, autopct=\"%1.1f%%\"\n",
    "       , shadow=True, startangle=180)\n",
    "\n",
    "plt.title(\"% of Total Rides by City Type\")\n",
    "plt.axis('image')\n",
    "\n",
    "plt.show()"
   ]
  },
  {
   "cell_type": "code",
   "execution_count": 158,
   "metadata": {
    "collapsed": true
   },
   "outputs": [],
   "source": [
    "# Find average fare per city / Urban\n",
    "urban_avg_fare_df = urban_df.groupby('city')\n",
    "urban_avg_fare_df = urban_avg_fare_df.mean()\n",
    "urban_avg_fare_list = avg_fare_df['fare'].tolist()\n",
    "\n",
    "# Find average fare per city / Rural\n",
    "rural_avg_fare_df = rural_df.groupby('city')\n",
    "rural_avg_fare_df = rural_avg_fare_df.mean()\n",
    "rural_avg_fare_list = rural_avg_fare_df['fare'].tolist()\n",
    "\n",
    "\n",
    "# Find average fare per city / Suburban\n",
    "suburban_avg_fare_df = suburban_df.groupby('city')\n",
    "suburban_avg_fare_df = suburban_avg_fare_df.mean()\n",
    "suburban_avg_fare_list = suburban_avg_fare_df['fare'].tolist()\n"
   ]
  },
  {
   "cell_type": "code",
   "execution_count": 159,
   "metadata": {
    "collapsed": true
   },
   "outputs": [],
   "source": [
    "# Find total number of rides per city / Urban\n",
    "urban_avg_ride_df = urban_df.groupby('city')\n",
    "urban_avg_ride_df = urban_avg_ride_df.count()\n",
    "urban_avg_ride_list = urban_avg_ride_df['ride_id'].tolist()\n",
    "urban_avg_ride_list\n",
    "\n",
    "# Find total number of rides per city / Rural\n",
    "rural_avg_ride_df = rural_df.groupby('city')\n",
    "rural_avg_ride_df = rural_avg_ride_df.count()\n",
    "rural_avg_ride_list = rural_avg_ride_df['ride_id'].tolist()\n",
    "rural_avg_ride_list\n",
    "\n",
    "# Find total number of rides per city / Suburban\n",
    "suburban_avg_ride_df = suburban_df.groupby('city')\n",
    "suburban_avg_ride_df = suburban_avg_ride_df.count()\n",
    "suburban_avg_ride_list = suburban_avg_ride_df['ride_id'].tolist()"
   ]
  },
  {
   "cell_type": "code",
   "execution_count": 167,
   "metadata": {
    "scrolled": true
   },
   "outputs": [
    {
     "name": "stdout",
     "output_type": "stream",
     "text": [
      "[63, 8, 12, 34, 52, 4, 70, 37, 70, 66, 34, 67, 55, 28, 15, 12, 61, 13, 67, 46, 7, 11, 42, 31, 41, 70, 47, 60, 64, 69, 58, 9, 55, 26, 63, 22, 68, 9, 20, 47, 55, 15, 30, 49, 35, 43, 11, 43, 22, 13, 52, 73, 11, 21, 49, 12, 73, 51, 45, 44, 8, 43, 25, 65, 65, 21]\n",
      "[3, 3, 3, 6, 3, 6, 9, 4, 3, 3, 7, 6, 10, 6, 9, 10, 8, 5]\n",
      "[4, 26, 9, 4, 19, 22, 5, 9, 7, 24, 12, 1, 9, 8, 16, 27, 18, 20, 15, 16, 13, 25, 14, 9, 10, 21, 27, 6, 16, 18, 20, 11, 13, 17, 3, 26, 26, 26, 21, 18, 5, 22]\n"
     ]
    }
   ],
   "source": [
    "# Find total number of drivers per city / Urban\n",
    "urban_drive_df = city_df.loc[city_df['type'] == 'Urban']\n",
    "urban_drive_list = urban_drive_df['driver_count'].tolist()\n",
    "print(urban_drive_list)\n",
    "\n",
    "# Find total number of drivers per city / Rural\n",
    "rural_drive_df = city_df.loc[city_df['type'] == 'Rural']\n",
    "rural_drive_list = rural_drive_df['driver_count'].tolist()\n",
    "print(rural_drive_list)\n",
    "\n",
    "# Find total number of drivers per city / Suburban\n",
    "suburban_drive_df = city_df.loc[city_df['type'] == 'Suburban']\n",
    "suburban_drive_list = suburban_drive_df['driver_count'].tolist()\n",
    "print(suburban_drive_list)"
   ]
  },
  {
   "cell_type": "code",
   "execution_count": 194,
   "metadata": {
    "scrolled": true
   },
   "outputs": [
    {
     "data": {
      "image/png": "[encoded data removed]",
      "text/plain": [
       "<matplotlib.figure.Figure at 0x1d9b24b4048>"
      ]
     },
     "metadata": {},
     "output_type": "display_data"
    }
   ],
   "source": [
    "# Plot\n",
    "\n",
    "urban = plt.scatter(urban_avg_ride_list, urban_avg_fare_list, (urban_drive_list *10) ,c='lightcoral', alpha=.75)\n",
    "rural = plt.scatter(rural_avg_ride_list, rural_avg_fare_list, (rural_drive_list *10),c='Gold', alpha=.75)\n",
    "suburban = plt.scatter(suburban_avg_ride_list, suburban_avg_fare_list, (suburban_drive_list *10),c='lightskyblue', alpha=.75)\n",
    "plt.title(\"Pyber Ride Sharing Data (2016)\")\n",
    "plt.xlabel(\"Total Number of Rides (Per City)\")\n",
    "plt.ylabel(\"Average Fare ($)\")\n",
    "plt.legend((urban,rural,suburban),('Urban','Rural', 'Suburban'),loc='best',title='City Types')\n",
    "plt.show()"
   ]
  },
  {
   "cell_type": "code",
   "execution_count": 190,
   "metadata": {
    "collapsed": true
   },
   "outputs": [],
   "source": [
    "plt.scatter?\n"
   ]
  },
  {
   "cell_type": "code",
   "execution_count": null,
   "metadata": {
    "collapsed": true
   },
   "outputs": [],
   "source": []
  }
 ],
 "metadata": {
  "kernelspec": {
   "display_name": "Python 3",
   "language": "python",
   "name": "python3"
  },
  "language_info": {
   "codemirror_mode": {
    "name": "ipython",
    "version": 3
   },
   "file_extension": ".py",
   "mimetype": "text/x-python",
   "name": "python",
   "nbconvert_exporter": "python",
   "pygments_lexer": "ipython3",
   "version": "3.6.3"
  }
 },
 "nbformat": 4,
 "nbformat_minor": 2
}
